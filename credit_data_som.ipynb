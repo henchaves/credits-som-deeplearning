{
 "cells": [
  {
   "cell_type": "code",
   "execution_count": 1,
   "metadata": {},
   "outputs": [],
   "source": [
    "import numpy as np\n",
    "import pandas as pd\n",
    "\n",
    "from sklearn.preprocessing import MinMaxScaler\n",
    "\n",
    "from minisom import MiniSom\n",
    "\n",
    "from pylab import pcolor, colorbar, plot"
   ]
  },
  {
   "cell_type": "code",
   "execution_count": 2,
   "metadata": {
    "scrolled": true
   },
   "outputs": [
    {
     "data": {
      "text/html": [
       "<div>\n",
       "<style scoped>\n",
       "    .dataframe tbody tr th:only-of-type {\n",
       "        vertical-align: middle;\n",
       "    }\n",
       "\n",
       "    .dataframe tbody tr th {\n",
       "        vertical-align: top;\n",
       "    }\n",
       "\n",
       "    .dataframe thead th {\n",
       "        text-align: right;\n",
       "    }\n",
       "</style>\n",
       "<table border=\"1\" class=\"dataframe\">\n",
       "  <thead>\n",
       "    <tr style=\"text-align: right;\">\n",
       "      <th></th>\n",
       "      <th>clientid</th>\n",
       "      <th>income</th>\n",
       "      <th>age</th>\n",
       "      <th>loan</th>\n",
       "      <th>default</th>\n",
       "    </tr>\n",
       "  </thead>\n",
       "  <tbody>\n",
       "    <tr>\n",
       "      <th>0</th>\n",
       "      <td>1</td>\n",
       "      <td>66155.925095</td>\n",
       "      <td>59.017015</td>\n",
       "      <td>8106.532131</td>\n",
       "      <td>0</td>\n",
       "    </tr>\n",
       "    <tr>\n",
       "      <th>1</th>\n",
       "      <td>2</td>\n",
       "      <td>34415.153966</td>\n",
       "      <td>48.117153</td>\n",
       "      <td>6564.745018</td>\n",
       "      <td>0</td>\n",
       "    </tr>\n",
       "    <tr>\n",
       "      <th>2</th>\n",
       "      <td>3</td>\n",
       "      <td>57317.170063</td>\n",
       "      <td>63.108049</td>\n",
       "      <td>8020.953296</td>\n",
       "      <td>0</td>\n",
       "    </tr>\n",
       "    <tr>\n",
       "      <th>3</th>\n",
       "      <td>4</td>\n",
       "      <td>42709.534201</td>\n",
       "      <td>45.751972</td>\n",
       "      <td>6103.642260</td>\n",
       "      <td>0</td>\n",
       "    </tr>\n",
       "    <tr>\n",
       "      <th>4</th>\n",
       "      <td>5</td>\n",
       "      <td>66952.688845</td>\n",
       "      <td>18.584336</td>\n",
       "      <td>8770.099235</td>\n",
       "      <td>1</td>\n",
       "    </tr>\n",
       "  </tbody>\n",
       "</table>\n",
       "</div>"
      ],
      "text/plain": [
       "   clientid        income        age         loan  default\n",
       "0         1  66155.925095  59.017015  8106.532131        0\n",
       "1         2  34415.153966  48.117153  6564.745018        0\n",
       "2         3  57317.170063  63.108049  8020.953296        0\n",
       "3         4  42709.534201  45.751972  6103.642260        0\n",
       "4         5  66952.688845  18.584336  8770.099235        1"
      ]
     },
     "execution_count": 2,
     "metadata": {},
     "output_type": "execute_result"
    }
   ],
   "source": [
    "df = pd.read_csv('credit_data.csv')\n",
    "df.head()"
   ]
  },
  {
   "cell_type": "code",
   "execution_count": 3,
   "metadata": {},
   "outputs": [
    {
     "data": {
      "text/html": [
       "<div>\n",
       "<style scoped>\n",
       "    .dataframe tbody tr th:only-of-type {\n",
       "        vertical-align: middle;\n",
       "    }\n",
       "\n",
       "    .dataframe tbody tr th {\n",
       "        vertical-align: top;\n",
       "    }\n",
       "\n",
       "    .dataframe thead th {\n",
       "        text-align: right;\n",
       "    }\n",
       "</style>\n",
       "<table border=\"1\" class=\"dataframe\">\n",
       "  <thead>\n",
       "    <tr style=\"text-align: right;\">\n",
       "      <th></th>\n",
       "      <th>clientid</th>\n",
       "      <th>income</th>\n",
       "      <th>age</th>\n",
       "      <th>loan</th>\n",
       "      <th>default</th>\n",
       "    </tr>\n",
       "  </thead>\n",
       "  <tbody>\n",
       "    <tr>\n",
       "      <th>count</th>\n",
       "      <td>2000.000000</td>\n",
       "      <td>2000.000000</td>\n",
       "      <td>1997.000000</td>\n",
       "      <td>2000.000000</td>\n",
       "      <td>2000.000000</td>\n",
       "    </tr>\n",
       "    <tr>\n",
       "      <th>mean</th>\n",
       "      <td>1000.500000</td>\n",
       "      <td>45331.600018</td>\n",
       "      <td>40.807559</td>\n",
       "      <td>4444.369695</td>\n",
       "      <td>0.141500</td>\n",
       "    </tr>\n",
       "    <tr>\n",
       "      <th>std</th>\n",
       "      <td>577.494589</td>\n",
       "      <td>14326.327119</td>\n",
       "      <td>13.624469</td>\n",
       "      <td>3045.410024</td>\n",
       "      <td>0.348624</td>\n",
       "    </tr>\n",
       "    <tr>\n",
       "      <th>min</th>\n",
       "      <td>1.000000</td>\n",
       "      <td>20014.489470</td>\n",
       "      <td>-52.423280</td>\n",
       "      <td>1.377630</td>\n",
       "      <td>0.000000</td>\n",
       "    </tr>\n",
       "    <tr>\n",
       "      <th>25%</th>\n",
       "      <td>500.750000</td>\n",
       "      <td>32796.459717</td>\n",
       "      <td>28.990415</td>\n",
       "      <td>1939.708847</td>\n",
       "      <td>0.000000</td>\n",
       "    </tr>\n",
       "    <tr>\n",
       "      <th>50%</th>\n",
       "      <td>1000.500000</td>\n",
       "      <td>45789.117313</td>\n",
       "      <td>41.317159</td>\n",
       "      <td>3974.719419</td>\n",
       "      <td>0.000000</td>\n",
       "    </tr>\n",
       "    <tr>\n",
       "      <th>75%</th>\n",
       "      <td>1500.250000</td>\n",
       "      <td>57791.281668</td>\n",
       "      <td>52.587040</td>\n",
       "      <td>6432.410625</td>\n",
       "      <td>0.000000</td>\n",
       "    </tr>\n",
       "    <tr>\n",
       "      <th>max</th>\n",
       "      <td>2000.000000</td>\n",
       "      <td>69995.685578</td>\n",
       "      <td>63.971796</td>\n",
       "      <td>13766.051239</td>\n",
       "      <td>1.000000</td>\n",
       "    </tr>\n",
       "  </tbody>\n",
       "</table>\n",
       "</div>"
      ],
      "text/plain": [
       "          clientid        income          age          loan      default\n",
       "count  2000.000000   2000.000000  1997.000000   2000.000000  2000.000000\n",
       "mean   1000.500000  45331.600018    40.807559   4444.369695     0.141500\n",
       "std     577.494589  14326.327119    13.624469   3045.410024     0.348624\n",
       "min       1.000000  20014.489470   -52.423280      1.377630     0.000000\n",
       "25%     500.750000  32796.459717    28.990415   1939.708847     0.000000\n",
       "50%    1000.500000  45789.117313    41.317159   3974.719419     0.000000\n",
       "75%    1500.250000  57791.281668    52.587040   6432.410625     0.000000\n",
       "max    2000.000000  69995.685578    63.971796  13766.051239     1.000000"
      ]
     },
     "execution_count": 3,
     "metadata": {},
     "output_type": "execute_result"
    }
   ],
   "source": [
    "df.describe()"
   ]
  },
  {
   "cell_type": "code",
   "execution_count": 4,
   "metadata": {},
   "outputs": [
    {
     "name": "stdout",
     "output_type": "stream",
     "text": [
      "<class 'pandas.core.frame.DataFrame'>\n",
      "RangeIndex: 2000 entries, 0 to 1999\n",
      "Data columns (total 5 columns):\n",
      " #   Column    Non-Null Count  Dtype  \n",
      "---  ------    --------------  -----  \n",
      " 0   clientid  2000 non-null   int64  \n",
      " 1   income    2000 non-null   float64\n",
      " 2   age       1997 non-null   float64\n",
      " 3   loan      2000 non-null   float64\n",
      " 4   default   2000 non-null   int64  \n",
      "dtypes: float64(3), int64(2)\n",
      "memory usage: 78.2 KB\n"
     ]
    }
   ],
   "source": [
    "df.info()"
   ]
  },
  {
   "cell_type": "code",
   "execution_count": 5,
   "metadata": {},
   "outputs": [],
   "source": [
    "df = df.dropna(axis=0)"
   ]
  },
  {
   "cell_type": "code",
   "execution_count": 6,
   "metadata": {},
   "outputs": [
    {
     "name": "stdout",
     "output_type": "stream",
     "text": [
      "<class 'pandas.core.frame.DataFrame'>\n",
      "Int64Index: 1997 entries, 0 to 1999\n",
      "Data columns (total 5 columns):\n",
      " #   Column    Non-Null Count  Dtype  \n",
      "---  ------    --------------  -----  \n",
      " 0   clientid  1997 non-null   int64  \n",
      " 1   income    1997 non-null   float64\n",
      " 2   age       1997 non-null   float64\n",
      " 3   loan      1997 non-null   float64\n",
      " 4   default   1997 non-null   int64  \n",
      "dtypes: float64(3), int64(2)\n",
      "memory usage: 93.6 KB\n"
     ]
    }
   ],
   "source": [
    "df.info()"
   ]
  },
  {
   "cell_type": "code",
   "execution_count": 7,
   "metadata": {},
   "outputs": [],
   "source": [
    "df.loc[df['age'] < 0, 'age'] = df['age'].mean()"
   ]
  },
  {
   "cell_type": "code",
   "execution_count": 8,
   "metadata": {},
   "outputs": [
    {
     "data": {
      "text/html": [
       "<div>\n",
       "<style scoped>\n",
       "    .dataframe tbody tr th:only-of-type {\n",
       "        vertical-align: middle;\n",
       "    }\n",
       "\n",
       "    .dataframe tbody tr th {\n",
       "        vertical-align: top;\n",
       "    }\n",
       "\n",
       "    .dataframe thead th {\n",
       "        text-align: right;\n",
       "    }\n",
       "</style>\n",
       "<table border=\"1\" class=\"dataframe\">\n",
       "  <thead>\n",
       "    <tr style=\"text-align: right;\">\n",
       "      <th></th>\n",
       "      <th>clientid</th>\n",
       "      <th>income</th>\n",
       "      <th>age</th>\n",
       "      <th>loan</th>\n",
       "      <th>default</th>\n",
       "    </tr>\n",
       "  </thead>\n",
       "  <tbody>\n",
       "    <tr>\n",
       "      <th>count</th>\n",
       "      <td>1997.000000</td>\n",
       "      <td>1997.000000</td>\n",
       "      <td>1997.000000</td>\n",
       "      <td>1997.000000</td>\n",
       "      <td>1997.000000</td>\n",
       "    </tr>\n",
       "    <tr>\n",
       "      <th>mean</th>\n",
       "      <td>1001.956935</td>\n",
       "      <td>45333.864334</td>\n",
       "      <td>40.927520</td>\n",
       "      <td>4445.487716</td>\n",
       "      <td>0.141713</td>\n",
       "    </tr>\n",
       "    <tr>\n",
       "      <th>std</th>\n",
       "      <td>576.702206</td>\n",
       "      <td>14325.131177</td>\n",
       "      <td>13.261826</td>\n",
       "      <td>3046.792457</td>\n",
       "      <td>0.348842</td>\n",
       "    </tr>\n",
       "    <tr>\n",
       "      <th>min</th>\n",
       "      <td>1.000000</td>\n",
       "      <td>20014.489470</td>\n",
       "      <td>18.055189</td>\n",
       "      <td>1.377630</td>\n",
       "      <td>0.000000</td>\n",
       "    </tr>\n",
       "    <tr>\n",
       "      <th>25%</th>\n",
       "      <td>503.000000</td>\n",
       "      <td>32804.904487</td>\n",
       "      <td>29.072097</td>\n",
       "      <td>1936.813257</td>\n",
       "      <td>0.000000</td>\n",
       "    </tr>\n",
       "    <tr>\n",
       "      <th>50%</th>\n",
       "      <td>1002.000000</td>\n",
       "      <td>45788.747100</td>\n",
       "      <td>41.317159</td>\n",
       "      <td>3977.287432</td>\n",
       "      <td>0.000000</td>\n",
       "    </tr>\n",
       "    <tr>\n",
       "      <th>75%</th>\n",
       "      <td>1501.000000</td>\n",
       "      <td>57787.565659</td>\n",
       "      <td>52.587040</td>\n",
       "      <td>6440.861434</td>\n",
       "      <td>0.000000</td>\n",
       "    </tr>\n",
       "    <tr>\n",
       "      <th>max</th>\n",
       "      <td>2000.000000</td>\n",
       "      <td>69995.685578</td>\n",
       "      <td>63.971796</td>\n",
       "      <td>13766.051239</td>\n",
       "      <td>1.000000</td>\n",
       "    </tr>\n",
       "  </tbody>\n",
       "</table>\n",
       "</div>"
      ],
      "text/plain": [
       "          clientid        income          age          loan      default\n",
       "count  1997.000000   1997.000000  1997.000000   1997.000000  1997.000000\n",
       "mean   1001.956935  45333.864334    40.927520   4445.487716     0.141713\n",
       "std     576.702206  14325.131177    13.261826   3046.792457     0.348842\n",
       "min       1.000000  20014.489470    18.055189      1.377630     0.000000\n",
       "25%     503.000000  32804.904487    29.072097   1936.813257     0.000000\n",
       "50%    1002.000000  45788.747100    41.317159   3977.287432     0.000000\n",
       "75%    1501.000000  57787.565659    52.587040   6440.861434     0.000000\n",
       "max    2000.000000  69995.685578    63.971796  13766.051239     1.000000"
      ]
     },
     "execution_count": 8,
     "metadata": {},
     "output_type": "execute_result"
    }
   ],
   "source": [
    "df.describe()"
   ]
  },
  {
   "cell_type": "code",
   "execution_count": 9,
   "metadata": {},
   "outputs": [],
   "source": [
    "X = df.iloc[:, 0:4].to_numpy()\n",
    "y = df.iloc[:, 4].to_numpy()"
   ]
  },
  {
   "cell_type": "code",
   "execution_count": 10,
   "metadata": {},
   "outputs": [],
   "source": [
    "normalizer = MinMaxScaler(feature_range=(0,1))\n",
    "X = normalizer.fit_transform(X)"
   ]
  },
  {
   "cell_type": "code",
   "execution_count": 11,
   "metadata": {},
   "outputs": [],
   "source": [
    "som = MiniSom(x=15, y=15, input_len=4, random_seed=0)\n",
    "som.random_weights_init(X)\n",
    "som.train_random(data=X, num_iteration=100)"
   ]
  },
  {
   "cell_type": "code",
   "execution_count": 12,
   "metadata": {},
   "outputs": [
    {
     "data": {
      "image/png": "[encoded data removed]",
      "text/plain": [
       "<Figure size 432x288 with 2 Axes>"
      ]
     },
     "metadata": {
      "needs_background": "light"
     },
     "output_type": "display_data"
    }
   ],
   "source": [
    "pcolor(som.distance_map().T)\n",
    "colorbar()\n",
    "\n",
    "markers = ['o', 's']\n",
    "colors = ['r', 'g']\n",
    "\n",
    "for i, x in enumerate(X):\n",
    "    w = som.winner(x)\n",
    "    plot(w[0] + 0.5, w[1] + 0.5, markers[y[i]], markerfacecolor='None',\n",
    "        markersize=10, markeredgecolor=colors[y[i]], markeredgewidth=2)"
   ]
  },
  {
   "cell_type": "code",
   "execution_count": 17,
   "metadata": {},
   "outputs": [],
   "source": [
    "mapeamento = som.win_map(X)"
   ]
  },
  {
   "cell_type": "code",
   "execution_count": 26,
   "metadata": {},
   "outputs": [],
   "source": [
    "suspeitos = np.concatenate((mapeamento[(4,5)], mapeamento[(13, 1)]), axis=0)"
   ]
  },
  {
   "cell_type": "code",
   "execution_count": 27,
   "metadata": {},
   "outputs": [],
   "source": [
    "suspeitos = normalizer.inverse_transform(suspeitos)"
   ]
  },
  {
   "cell_type": "code",
   "execution_count": 31,
   "metadata": {},
   "outputs": [
    {
     "data": {
      "text/plain": [
       "array([0, 0, 0, 0, 0, 1, 0, 0, 1, 0, 1, 1, 1, 0, 1, 0, 1, 0, 0, 1, 1, 1,\n",
       "       1, 1, 1], dtype=int64)"
      ]
     },
     "execution_count": 31,
     "metadata": {},
     "output_type": "execute_result"
    }
   ],
   "source": [
    "classe = []\n",
    "\n",
    "for i in range(len(df)):\n",
    "    for j in range(len(suspeitos)):\n",
    "        if df.iloc[i, 0] == int(round(suspeitos[j, 0])):\n",
    "            classe.append(df.iloc[i, 4])\n",
    "\n",
    "classe = np.asarray(classe)\n",
    "classe"
   ]
  },
  {
   "cell_type": "code",
   "execution_count": 35,
   "metadata": {},
   "outputs": [
    {
     "data": {
      "text/plain": [
       "array([[8.21000000e+02, 6.54819456e+04, 4.50385762e+01, 1.06142485e+04,\n",
       "        0.00000000e+00],\n",
       "       [8.35000000e+02, 6.51379378e+04, 4.21331096e+01, 1.03521818e+04,\n",
       "        0.00000000e+00],\n",
       "       [8.43000000e+02, 6.00050101e+04, 4.01948890e+01, 1.06776680e+04,\n",
       "        0.00000000e+00],\n",
       "       [8.75000000e+02, 6.62742081e+04, 3.63746234e+01, 1.02579184e+04,\n",
       "        0.00000000e+00],\n",
       "       [9.46000000e+02, 6.35588641e+04, 3.63568547e+01, 9.28292774e+03,\n",
       "        0.00000000e+00],\n",
       "       [9.68000000e+02, 6.52108371e+04, 2.75284397e+01, 1.26079517e+04,\n",
       "        1.00000000e+00],\n",
       "       [1.04200000e+03, 5.92565560e+04, 3.85789446e+01, 9.81297872e+03,\n",
       "        0.00000000e+00],\n",
       "       [1.08400000e+03, 6.27246361e+04, 3.98353766e+01, 9.25513776e+03,\n",
       "        0.00000000e+00],\n",
       "       [1.08900000e+03, 6.45019304e+04, 3.33579469e+01, 1.21473142e+04,\n",
       "        1.00000000e+00],\n",
       "       [1.09500000e+03, 6.25356328e+04, 3.91940755e+01, 9.49026419e+03,\n",
       "        0.00000000e+00],\n",
       "       [1.10300000e+03, 6.39443237e+04, 3.25243454e+01, 1.22139493e+04,\n",
       "        1.00000000e+00],\n",
       "       [1.14000000e+03, 5.92087161e+04, 3.09311519e+01, 1.14794378e+04,\n",
       "        1.00000000e+00],\n",
       "       [1.20100000e+03, 6.46039209e+04, 3.30618318e+01, 1.12646912e+04,\n",
       "        1.00000000e+00],\n",
       "       [1.21300000e+03, 6.82911536e+04, 4.67935381e+01, 9.57795514e+03,\n",
       "        0.00000000e+00],\n",
       "       [1.24300000e+03, 6.18000344e+04, 2.96657960e+01, 9.14361171e+03,\n",
       "        1.00000000e+00],\n",
       "       [1.29300000e+03, 6.42330407e+04, 2.67145613e+01, 1.21045342e+04,\n",
       "        0.00000000e+00],\n",
       "       [1.30800000e+03, 6.89363214e+04, 4.33650562e+01, 1.10731585e+04,\n",
       "        1.00000000e+00],\n",
       "       [1.39700000e+03, 6.32716088e+04, 2.33420981e+01, 1.12981722e+04,\n",
       "        0.00000000e+00],\n",
       "       [1.44400000e+03, 6.34532231e+04, 2.39157054e+01, 1.06683635e+04,\n",
       "        0.00000000e+00],\n",
       "       [1.50900000e+03, 6.62740729e+04, 2.18256043e+01, 1.15765422e+04,\n",
       "        1.00000000e+00],\n",
       "       [1.56700000e+03, 6.69418649e+04, 2.25407356e+01, 1.23806247e+04,\n",
       "        1.00000000e+00],\n",
       "       [1.58500000e+03, 6.72895857e+04, 2.67274005e+01, 1.33767977e+04,\n",
       "        1.00000000e+00],\n",
       "       [1.27000000e+03, 6.04545257e+04, 4.10516050e+01, 7.87507093e+03,\n",
       "        1.00000000e+00],\n",
       "       [1.37700000e+03, 6.06248154e+04, 3.98577877e+01, 6.74071614e+03,\n",
       "        1.00000000e+00],\n",
       "       [1.43000000e+03, 6.08466650e+04, 3.26733949e+01, 8.97449202e+03,\n",
       "        1.00000000e+00]])"
      ]
     },
     "execution_count": 35,
     "metadata": {},
     "output_type": "execute_result"
    }
   ],
   "source": [
    "suspeitos_final = np.column_stack((suspeitos, classe))\n",
    "suspeitos_final"
   ]
  },
  {
   "cell_type": "code",
   "execution_count": 37,
   "metadata": {},
   "outputs": [
    {
     "data": {
      "text/plain": [
       "array([[8.21000000e+02, 6.54819456e+04, 4.50385762e+01, 1.06142485e+04,\n",
       "        0.00000000e+00],\n",
       "       [8.35000000e+02, 6.51379378e+04, 4.21331096e+01, 1.03521818e+04,\n",
       "        0.00000000e+00],\n",
       "       [8.43000000e+02, 6.00050101e+04, 4.01948890e+01, 1.06776680e+04,\n",
       "        0.00000000e+00],\n",
       "       [8.75000000e+02, 6.62742081e+04, 3.63746234e+01, 1.02579184e+04,\n",
       "        0.00000000e+00],\n",
       "       [9.46000000e+02, 6.35588641e+04, 3.63568547e+01, 9.28292774e+03,\n",
       "        0.00000000e+00],\n",
       "       [1.04200000e+03, 5.92565560e+04, 3.85789446e+01, 9.81297872e+03,\n",
       "        0.00000000e+00],\n",
       "       [1.08400000e+03, 6.27246361e+04, 3.98353766e+01, 9.25513776e+03,\n",
       "        0.00000000e+00],\n",
       "       [1.09500000e+03, 6.25356328e+04, 3.91940755e+01, 9.49026419e+03,\n",
       "        0.00000000e+00],\n",
       "       [1.44400000e+03, 6.34532231e+04, 2.39157054e+01, 1.06683635e+04,\n",
       "        0.00000000e+00],\n",
       "       [1.21300000e+03, 6.82911536e+04, 4.67935381e+01, 9.57795514e+03,\n",
       "        0.00000000e+00],\n",
       "       [1.39700000e+03, 6.32716088e+04, 2.33420981e+01, 1.12981722e+04,\n",
       "        0.00000000e+00],\n",
       "       [1.29300000e+03, 6.42330407e+04, 2.67145613e+01, 1.21045342e+04,\n",
       "        0.00000000e+00],\n",
       "       [1.27000000e+03, 6.04545257e+04, 4.10516050e+01, 7.87507093e+03,\n",
       "        1.00000000e+00],\n",
       "       [1.58500000e+03, 6.72895857e+04, 2.67274005e+01, 1.33767977e+04,\n",
       "        1.00000000e+00],\n",
       "       [1.56700000e+03, 6.69418649e+04, 2.25407356e+01, 1.23806247e+04,\n",
       "        1.00000000e+00],\n",
       "       [1.50900000e+03, 6.62740729e+04, 2.18256043e+01, 1.15765422e+04,\n",
       "        1.00000000e+00],\n",
       "       [1.20100000e+03, 6.46039209e+04, 3.30618318e+01, 1.12646912e+04,\n",
       "        1.00000000e+00],\n",
       "       [1.24300000e+03, 6.18000344e+04, 2.96657960e+01, 9.14361171e+03,\n",
       "        1.00000000e+00],\n",
       "       [1.37700000e+03, 6.06248154e+04, 3.98577877e+01, 6.74071614e+03,\n",
       "        1.00000000e+00],\n",
       "       [1.14000000e+03, 5.92087161e+04, 3.09311519e+01, 1.14794378e+04,\n",
       "        1.00000000e+00],\n",
       "       [1.10300000e+03, 6.39443237e+04, 3.25243454e+01, 1.22139493e+04,\n",
       "        1.00000000e+00],\n",
       "       [1.08900000e+03, 6.45019304e+04, 3.33579469e+01, 1.21473142e+04,\n",
       "        1.00000000e+00],\n",
       "       [9.68000000e+02, 6.52108371e+04, 2.75284397e+01, 1.26079517e+04,\n",
       "        1.00000000e+00],\n",
       "       [1.30800000e+03, 6.89363214e+04, 4.33650562e+01, 1.10731585e+04,\n",
       "        1.00000000e+00],\n",
       "       [1.43000000e+03, 6.08466650e+04, 3.26733949e+01, 8.97449202e+03,\n",
       "        1.00000000e+00]])"
      ]
     },
     "execution_count": 37,
     "metadata": {},
     "output_type": "execute_result"
    }
   ],
   "source": [
    "suspeitos_final = suspeitos_final[suspeitos_final[:, 4].argsort()]\n",
    "suspeitos_final"
   ]
  }
 ],
 "metadata": {
  "kernelspec": {
   "display_name": "Python 3",
   "language": "python",
   "name": "python3"
  },
  "language_info": {
   "codemirror_mode": {
    "name": "ipython",
    "version": 3
   },
   "file_extension": ".py",
   "mimetype": "text/x-python",
   "name": "python",
   "nbconvert_exporter": "python",
   "pygments_lexer": "ipython3",
   "version": "3.8.3"
  }
 },
 "nbformat": 4,
 "nbformat_minor": 4
}
